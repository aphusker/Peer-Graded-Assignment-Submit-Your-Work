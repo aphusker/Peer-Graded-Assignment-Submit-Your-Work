{
  "metadata": {
    "kernelspec": {
      "name": "python",
      "display_name": "Python (Pyodide)",
      "language": "python"
    },
    "language_info": {
      "codemirror_mode": {
        "name": "python",
        "version": 3
      },
      "file_extension": ".py",
      "mimetype": "text/x-python",
      "name": "python",
      "nbconvert_exporter": "python",
      "pygments_lexer": "ipython3",
      "version": "3.8"
    }
  },
  "nbformat_minor": 4,
  "nbformat": 4,
  "cells": [
    {
      "cell_type": "markdown",
      "source": "# Data Science Tools and Ecosystems",
      "metadata": {}
    },
    {
      "cell_type": "markdown",
      "source": "In this notebook, Data Science Tools and Ecosystem are summarized.",
      "metadata": {}
    },
    {
      "cell_type": "markdown",
      "source": "##### **Objectives**",
      "metadata": {}
    },
    {
      "cell_type": "markdown",
      "source": "* List Popular languages for Data Science\n* List commonly used libraries for Data Science\n* Explore data science tools",
      "metadata": {}
    },
    {
      "cell_type": "markdown",
      "source": "Some of the popular languages that Data Scientists use are:\n\n1. SQL\n2. Python\n3. R\n4. Java",
      "metadata": {}
    },
    {
      "cell_type": "markdown",
      "source": "##### Exercise 5 - Create a markdown cell to list data science libraries",
      "metadata": {}
    },
    {
      "cell_type": "markdown",
      "source": "Some of the commonly used libraries used by Data Scientists include:",
      "metadata": {}
    },
    {
      "cell_type": "markdown",
      "source": "1. Pandas\n2. NumPy\n3. SciPy\n4. TensorFlow",
      "metadata": {}
    },
    {
      "cell_type": "markdown",
      "source": "##### Exercise 6 - Create a markdown cell with a table of Data Science tools",
      "metadata": {}
    },
    {
      "cell_type": "markdown",
      "source": "| Data Science Tools |\n|:--------:|\n|  Apache Spark  |\n|  TensorFlow   |\n|  Jupyter Notebook   |",
      "metadata": {}
    },
    {
      "cell_type": "markdown",
      "source": "##### Exercise 7 - Create a markdown cell introducing arithmetic expression examples",
      "metadata": {}
    },
    {
      "cell_type": "markdown",
      "source": "### Below are a few examples of evaluating arithmetic expressions in Python",
      "metadata": {}
    },
    {
      "cell_type": "code",
      "source": "#  This a simple arithmetic expression to mutiply then add integers\n(3*4)+5",
      "metadata": {
        "trusted": true
      },
      "outputs": [
        {
          "execution_count": 3,
          "output_type": "execute_result",
          "data": {
            "text/plain": "17"
          },
          "metadata": {}
        }
      ],
      "execution_count": 3
    },
    {
      "cell_type": "markdown",
      "source": "##### Exercise 9 - Create a code cell to convert minutes to hours",
      "metadata": {}
    },
    {
      "cell_type": "code",
      "source": "#  This will convert 200 minutes to hours by diving by 60\n\ndays = 0\nhours = 0\nmins = 0\n\ntime = 200\nleftover_minutes = time % 1440\nhours = leftover_minutes / 60\nprint(str(days) + \" days, \" + str(hours) + \" hours, \" + str(mins) +  \" mins. \")",
      "metadata": {
        "trusted": true
      },
      "outputs": [
        {
          "name": "stdout",
          "text": "0 days, 3.3333333333333335 hours, 0 mins. \n",
          "output_type": "stream"
        }
      ],
      "execution_count": 11
    },
    {
      "cell_type": "markdown",
      "source": "##### Exercise 11 - Create a markdown cell to indicate the Author's name",
      "metadata": {}
    },
    {
      "cell_type": "markdown",
      "source": " ## Author",
      "metadata": {}
    },
    {
      "cell_type": "code",
      "source": "Alex P.",
      "metadata": {
        "trusted": true
      },
      "outputs": [],
      "execution_count": null
    }
  ]
}